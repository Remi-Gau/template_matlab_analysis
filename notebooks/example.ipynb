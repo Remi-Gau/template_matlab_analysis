{
 "cells": [
  {
   "cell_type": "code",
   "execution_count": null,
   "metadata": {},
   "outputs": [],
   "source": [
    "run ../setup.m"
   ]
  },
  {
   "cell_type": "code",
   "execution_count": null,
   "id": "1102674f",
   "metadata": {},
   "outputs": [],
   "source": [
    "nb_iterations = 6;\n",
    "results = my_fibonacci(nb_iterations)"
   ]
  }
 ],
 "metadata": {
  "language_info": {
   "name": "python"
  }
 },
 "nbformat": 4,
 "nbformat_minor": 5
}
